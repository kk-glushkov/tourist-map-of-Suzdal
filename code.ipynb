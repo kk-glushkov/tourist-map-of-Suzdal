{
 "cells": [
  {
   "cell_type": "code",
   "execution_count": 234,
   "id": "17cb2ace",
   "metadata": {},
   "outputs": [],
   "source": [
    "import pandas as pd\n",
    "import geopandas as gpd\n",
    "import numpy as np\n",
    "import folium\n",
    "import mapclassify\n",
    "import matplotlib.pyplot as plt\n",
    "from matplotlib import colors\n",
    "from mapclassify import classify\n",
    "from folium.plugins import MousePosition\n",
    "from folium.plugins import Fullscreen\n",
    "from folium.plugins import AntPath\n",
    "from folium.features import GeoJsonTooltip\n",
    "from folium.features import CustomIcon\n",
    "from folium.plugins import Search\n",
    "\n",
    "\n",
    "\n",
    "from shapely import geometry"
   ]
  },
  {
   "cell_type": "code",
   "execution_count": 235,
   "id": "17c7f517",
   "metadata": {},
   "outputs": [
    {
     "data": {
      "text/html": [
       "<div>\n",
       "<style scoped>\n",
       "    .dataframe tbody tr th:only-of-type {\n",
       "        vertical-align: middle;\n",
       "    }\n",
       "\n",
       "    .dataframe tbody tr th {\n",
       "        vertical-align: top;\n",
       "    }\n",
       "\n",
       "    .dataframe thead th {\n",
       "        text-align: right;\n",
       "    }\n",
       "</style>\n",
       "<table border=\"1\" class=\"dataframe\">\n",
       "  <thead>\n",
       "    <tr style=\"text-align: right;\">\n",
       "      <th></th>\n",
       "      <th>fid</th>\n",
       "      <th>name</th>\n",
       "      <th>price</th>\n",
       "      <th>price_int</th>\n",
       "      <th>geometry</th>\n",
       "    </tr>\n",
       "  </thead>\n",
       "  <tbody>\n",
       "    <tr>\n",
       "      <th>0</th>\n",
       "      <td>1</td>\n",
       "      <td>Кремлин Лофт</td>\n",
       "      <td>от 34 856 руб</td>\n",
       "      <td>34856</td>\n",
       "      <td>POINT (589102.627 6253521.67)</td>\n",
       "    </tr>\n",
       "    <tr>\n",
       "      <th>1</th>\n",
       "      <td>2</td>\n",
       "      <td>Генеральская дача</td>\n",
       "      <td>от 19 937 руб</td>\n",
       "      <td>19937</td>\n",
       "      <td>POINT (589198.061 6253409.501)</td>\n",
       "    </tr>\n",
       "    <tr>\n",
       "      <th>2</th>\n",
       "      <td>3</td>\n",
       "      <td>Онегин</td>\n",
       "      <td>от 12 500 руб</td>\n",
       "      <td>12500</td>\n",
       "      <td>POINT (589254.823 6253376.258)</td>\n",
       "    </tr>\n",
       "    <tr>\n",
       "      <th>3</th>\n",
       "      <td>4</td>\n",
       "      <td>Флигель доктора Моренкова</td>\n",
       "      <td>от 7 169 руб</td>\n",
       "      <td>7169</td>\n",
       "      <td>POINT (589143.107 6253341.884)</td>\n",
       "    </tr>\n",
       "    <tr>\n",
       "      <th>4</th>\n",
       "      <td>5</td>\n",
       "      <td>Гостевой дом Терем Гамаюн</td>\n",
       "      <td>от149 033 руб</td>\n",
       "      <td>149033</td>\n",
       "      <td>POINT (589057.85 6253221.574)</td>\n",
       "    </tr>\n",
       "  </tbody>\n",
       "</table>\n",
       "</div>"
      ],
      "text/plain": [
       "   fid                       name          price  price_int  \\\n",
       "0    1               Кремлин Лофт  от 34 856 руб      34856   \n",
       "1    2          Генеральская дача  от 19 937 руб      19937   \n",
       "2    3                     Онегин  от 12 500 руб      12500   \n",
       "3    4  Флигель доктора Моренкова   от 7 169 руб       7169   \n",
       "4    5  Гостевой дом Терем Гамаюн  от149 033 руб     149033   \n",
       "\n",
       "                         geometry  \n",
       "0   POINT (589102.627 6253521.67)  \n",
       "1  POINT (589198.061 6253409.501)  \n",
       "2  POINT (589254.823 6253376.258)  \n",
       "3  POINT (589143.107 6253341.884)  \n",
       "4   POINT (589057.85 6253221.574)  "
      ]
     },
     "execution_count": 235,
     "metadata": {},
     "output_type": "execute_result"
    }
   ],
   "source": [
    "data = gpd.read_file('./hotels_points.geojson')\n",
    "data_cafe = gpd.read_file('./cafe.geojson')\n",
    "data_poly = gpd.read_file('./border_.geojson')\n",
    "data_poly_1 = gpd.read_file('./okn_polygon.geojson')\n",
    "data_okn_points = gpd.read_file('./okn_points.geojson')\n",
    "data_route = gpd.read_file('./route.geojson')\n",
    "data.head()"
   ]
  },
  {
   "cell_type": "code",
   "execution_count": 236,
   "id": "29c73912",
   "metadata": {},
   "outputs": [
    {
     "name": "stdout",
     "output_type": "stream",
     "text": [
      "WGS 72BE / UTM zone 37N\n"
     ]
    }
   ],
   "source": [
    "print(data.crs.name)"
   ]
  },
  {
   "cell_type": "code",
   "execution_count": 237,
   "id": "3347cc62",
   "metadata": {},
   "outputs": [],
   "source": [
    "total_bounds = data.total_bounds\n",
    "minX, minY, maxX, maxY = total_bounds"
   ]
  },
  {
   "cell_type": "code",
   "execution_count": 238,
   "id": "7787cba6",
   "metadata": {},
   "outputs": [],
   "source": [
    "square_size = 300"
   ]
  },
  {
   "cell_type": "code",
   "execution_count": 239,
   "id": "bebaf2d4",
   "metadata": {},
   "outputs": [],
   "source": [
    "grid_cells = []\n",
    "x, y = (minX, minY)\n",
    "geom_array = []\n",
    "\n",
    "while y <= maxY:\n",
    "        while x <= maxX:\n",
    "            geom = geometry.Polygon([(x,y), (x, y+square_size), (x+square_size, y+square_size), (x+square_size, y), (x, y)])\n",
    "            geom_array.append(geom)\n",
    "            x += square_size\n",
    "        x = minX\n",
    "        y += square_size\n",
    "\n",
    "\n",
    "fishnet = gpd.GeoDataFrame(geom_array, columns=['geometry']).set_crs('EPSG:32437')\n",
    "fishnet['id'] = fishnet.index"
   ]
  },
  {
   "cell_type": "code",
   "execution_count": 240,
   "id": "3023be62",
   "metadata": {},
   "outputs": [],
   "source": [
    "# Присоединяем точки отелей к ячейкам сетки\n",
    "joined_data = gpd.sjoin(fishnet, data, how='left', predicate='contains')\n",
    "\n",
    "# Вычисляем среднюю цену для каждой ячейки и записываем её в fishnet\n",
    "fishnet['avg_price'] = joined_data.groupby('id')['price_int'].mean().values\n"
   ]
  },
  {
   "cell_type": "code",
   "execution_count": 241,
   "id": "289aa760",
   "metadata": {},
   "outputs": [],
   "source": [
    "grid_cells_1 = []\n",
    "x, y = (minX, minY)\n",
    "geom_array = []\n",
    "\n",
    "while y <= maxY:\n",
    "        while x <= maxX:\n",
    "            geom = geometry.Polygon([(x,y), (x, y+square_size), (x+square_size, y+square_size), (x+square_size, y), (x, y)])\n",
    "            geom_array.append(geom)\n",
    "            x += square_size\n",
    "        x = minX\n",
    "        y += square_size\n",
    "\n",
    "\n",
    "fishnet_1 = gpd.GeoDataFrame(geom_array, columns=['geometry']).set_crs('EPSG:32437')\n",
    "fishnet_1['id'] = fishnet_1.index"
   ]
  },
  {
   "cell_type": "code",
   "execution_count": 242,
   "id": "d1e13037",
   "metadata": {},
   "outputs": [],
   "source": [
    "merged = gpd.sjoin(data_okn_points, fishnet_1, how='left', predicate='within')\n",
    "merged['n'] = 1\n",
    "dissolve = merged.dissolve(by=\"index_right\", aggfunc=\"count\")\n",
    "fishnet_1.loc[dissolve.index, 'n'] = dissolve.n.values"
   ]
  },
  {
   "cell_type": "code",
   "execution_count": 243,
   "id": "bf590d07",
   "metadata": {},
   "outputs": [
    {
     "name": "stderr",
     "output_type": "stream",
     "text": [
      "C:\\Users\\User\\AppData\\Local\\Temp\\ipykernel_13008\\1711575688.py:3: UserWarning: Geometry is in a geographic CRS. Results from 'centroid' are likely incorrect. Use 'GeoSeries.to_crs()' to re-project geometries to a projected CRS before this operation.\n",
      "\n",
      "  m = folium.Map(location=[data.centroid.y.mean(), data.centroid.x.mean()], zoom_start=12,  tiles=\"cartodb positron\", control_scale=True)\n"
     ]
    }
   ],
   "source": [
    "# Создаем карту\n",
    "data = data.to_crs('EPSG:4326')\n",
    "m = folium.Map(location=[data.centroid.y.mean(), data.centroid.x.mean()], zoom_start=12,  tiles=\"cartodb positron\", control_scale=True)\n"
   ]
  },
  {
   "cell_type": "code",
   "execution_count": 244,
   "id": "e27ef298",
   "metadata": {},
   "outputs": [
    {
     "data": {
      "text/plain": [
       "<folium.features.Choropleth at 0x1e348d53b10>"
      ]
     },
     "execution_count": 244,
     "metadata": {},
     "output_type": "execute_result"
    }
   ],
   "source": [
    "# Создаем heatmap достопримечательностей\n",
    "folium.Choropleth(\n",
    "    geo_data=fishnet_1, \n",
    "    data=fishnet_1,                      \n",
    "    columns=['id', 'n'],               \n",
    "    key_on='feature.id',               \n",
    "    fill_color='YlOrRd',                 \n",
    "    fill_opacity=0.7,\n",
    "    nan_fill_opacity=0,\n",
    "    line_opacity=0.2,\n",
    "    line_color='white',\n",
    "    legend_name='Количество достопримечательностей',\n",
    "    name='Концентрация достопримечательностей',\n",
    ").add_to(m)\n"
   ]
  },
  {
   "cell_type": "code",
   "execution_count": 245,
   "id": "53ed3edb",
   "metadata": {},
   "outputs": [
    {
     "data": {
      "text/plain": [
       "<folium.features.Choropleth at 0x1e34920c250>"
      ]
     },
     "execution_count": 245,
     "metadata": {},
     "output_type": "execute_result"
    }
   ],
   "source": [
    "# Создаем картограмму средней стоимости проживания за ночь\n",
    "folium.Choropleth(\n",
    "    geo_data=fishnet,\n",
    "    data=fishnet,\n",
    "    columns=['id', 'avg_price'],\n",
    "    fill_color='YlGnBu',\n",
    "    fill_opacity = 0.5,\n",
    "    key_on='id',\n",
    "    nan_fill_opacity=0,\n",
    "   line_color = \"#0000\",\n",
    "   legend_name=\"Средняя цена на проживание за ночь (руб)\",\n",
    "   name='Распределение средней цены на проживание'\n",
    ").add_to(m)\n"
   ]
  },
  {
   "cell_type": "code",
   "execution_count": 246,
   "id": "6eece9db",
   "metadata": {},
   "outputs": [
    {
     "data": {
      "text/plain": [
       "<folium.features.GeoJson at 0x1e348411850>"
      ]
     },
     "execution_count": 246,
     "metadata": {},
     "output_type": "execute_result"
    }
   ],
   "source": [
    "# Добавляем слой с границами\n",
    "folium.GeoJson(\n",
    "    data_poly,\n",
    "    name='Границы г. Суздаль',\n",
    "    style_function=lambda x: {\n",
    "        'color': 'red',\n",
    "        'weight': 2,\n",
    "        'opacity': 1,\n",
    "        'fillOpacity': 0\n",
    "    }\n",
    ").add_to(m)"
   ]
  },
  {
   "cell_type": "code",
   "execution_count": 247,
   "id": "8301c211",
   "metadata": {},
   "outputs": [
    {
     "data": {
      "text/plain": [
       "<folium.features.GeoJson at 0x1e346946810>"
      ]
     },
     "execution_count": 247,
     "metadata": {},
     "output_type": "execute_result"
    }
   ],
   "source": [
    "# Добавляем слой с пешеходным маршрутом\n",
    "folium.GeoJson(\n",
    "    data_route,\n",
    "    name='Предполагаемый туристический пешеходный маршрут',\n",
    "    style_function=lambda x: {\n",
    "        'color': 'purple',\n",
    "        'weight': 1,\n",
    "        'dashArray': '5,5',\n",
    "        'opacity': 1,\n",
    "        'fillOpacity': 0\n",
    "    }\n",
    ").add_to(m)"
   ]
  },
  {
   "cell_type": "code",
   "execution_count": 248,
   "id": "74774f27",
   "metadata": {},
   "outputs": [
    {
     "data": {
      "text/plain": [
       "<folium.features.GeoJson at 0x1e342619790>"
      ]
     },
     "execution_count": 248,
     "metadata": {},
     "output_type": "execute_result"
    }
   ],
   "source": [
    "# Полигоны ключевых достопримечательностей\n",
    "folium.GeoJson(\n",
    "    data_poly_1,\n",
    "    name='Достопримечательности',\n",
    "    style_function=lambda x: {\n",
    "        'fillColor': 'blue',\n",
    "        'color': 'darkblue',\n",
    "        'weight': 1,\n",
    "        'fillOpacity': 0.3,\n",
    "    },\n",
    "    tooltip=folium.GeoJsonTooltip(\n",
    "        fields=['name'],\n",
    "        aliases=['Достопримечательность: '],\n",
    "        sticky=True,\n",
    "        style=\"\"\"\n",
    "            background-color: white;\n",
    "            border: 1px solid black;\n",
    "            border-radius: 3px;\n",
    "            padding: 5px;\n",
    "            font-family: Arial;\n",
    "            font-size: 14px;\n",
    "        \"\"\"\n",
    "    ),\n",
    "    # Добавляем зум при клике\n",
    "    highlight_function=lambda x: {'weight': 3, 'color': 'red'}, \n",
    "    zoom_on_click=True  \n",
    ").add_to(m)"
   ]
  },
  {
   "cell_type": "code",
   "execution_count": 249,
   "id": "3529feae",
   "metadata": {},
   "outputs": [
    {
     "data": {
      "text/plain": [
       "<folium.plugins.search.Search at 0x1e3425fd310>"
      ]
     },
     "execution_count": 249,
     "metadata": {},
     "output_type": "execute_result"
    }
   ],
   "source": [
    "# Точки отелей + возможность поиска по названию\n",
    "hotels_group = folium.FeatureGroup(name='Отели')\n",
    "\n",
    "folium.GeoJson(\n",
    "    data,  \n",
    "    name='Отели',\n",
    "    marker=folium.Marker(\n",
    "        icon=folium.Icon(\n",
    "            icon='hotel',  \n",
    "            prefix='fa',\n",
    "            color='blue'\n",
    "        )\n",
    "    ),\n",
    "    tooltip=GeoJsonTooltip(\n",
    "        fields=['name', 'price'],\n",
    "        aliases=['Отель:', 'Цена за ночь:'],\n",
    "        localize=True,\n",
    "        sticky=True,\n",
    "        style=\"\"\"\n",
    "            background-color: #F0F8FF;\n",
    "            border: 2px solid #4682B4;\n",
    "            border-radius: 5px;\n",
    "            font-family: Arial;\n",
    "            padding: 5px;\n",
    "        \"\"\"\n",
    "    )\n",
    ").add_to(hotels_group)\n",
    "\n",
    "hotels_group.add_to(m)\n",
    "\n",
    "Search(\n",
    "    layer=hotels_group,\n",
    "    search_label='name',  \n",
    "    placeholder='Найти отель...',\n",
    "    collapsed=False,\n",
    "    position='topleft',\n",
    "    search_zoom=17,  \n",
    "    zoom_on_click=True,\n",
    "    style=\"\"\"\n",
    "        width: 300px;\n",
    "        font-size: 14px;\n",
    "    \"\"\"\n",
    ").add_to(m)"
   ]
  },
  {
   "cell_type": "code",
   "execution_count": 250,
   "id": "d435b3bd",
   "metadata": {},
   "outputs": [
    {
     "data": {
      "text/plain": [
       "<folium.plugins.search.Search at 0x1e3483bb2d0>"
      ]
     },
     "execution_count": 250,
     "metadata": {},
     "output_type": "execute_result"
    }
   ],
   "source": [
    "# Точки кафе + возможность поиска кафе по названию\n",
    "restaurants_group = folium.FeatureGroup(name='Кафе')\n",
    "\n",
    "folium.GeoJson(\n",
    "    data_cafe,\n",
    "    name='Кафе',\n",
    "    marker=folium.Marker(\n",
    "        icon=folium.Icon(icon='mug-hot', prefix='fa')\n",
    "    ),\n",
    "    tooltip=GeoJsonTooltip(\n",
    "        fields=['name', 'price'],\n",
    "        aliases=['Кафе:', 'Средний чек:'],\n",
    "        localize=True,\n",
    "        sticky=True\n",
    "    )\n",
    ").add_to(restaurants_group)\n",
    "\n",
    "restaurants_group.add_to(m)\n",
    "\n",
    "Search(\n",
    "    layer=restaurants_group,\n",
    "    search_label='name',  \n",
    "    placeholder='Поиск кафе по названию',\n",
    "    collapsed=False,\n",
    "    position='topleft'\n",
    ").add_to(m)"
   ]
  },
  {
   "cell_type": "code",
   "execution_count": 251,
   "id": "3e934ef5",
   "metadata": {},
   "outputs": [
    {
     "data": {
      "text/plain": [
       "<folium.plugins.fullscreen.Fullscreen at 0x1e34699cb50>"
      ]
     },
     "execution_count": 251,
     "metadata": {},
     "output_type": "execute_result"
    }
   ],
   "source": [
    "# Добавляем MousePosition\n",
    "MousePosition().add_to(m)\n",
    "Fullscreen(\n",
    "    position=\"bottomright\",\n",
    "    title=\"Expand me\",\n",
    "    title_cancel=\"Exit me\",\n",
    "    force_separate_button=True,\n",
    ").add_to(m)\n"
   ]
  },
  {
   "cell_type": "code",
   "execution_count": null,
   "id": "1e450207",
   "metadata": {},
   "outputs": [],
   "source": [
    "# Добавляем управление слоями\n",
    "folium.LayerControl().add_to(m)\n",
    "m"
   ]
  },
  {
   "cell_type": "code",
   "execution_count": null,
   "id": "b233dd4b",
   "metadata": {},
   "outputs": [],
   "source": [
    "m.save(\"index.html\")"
   ]
  }
 ],
 "metadata": {
  "kernelspec": {
   "display_name": "Python 3",
   "language": "python",
   "name": "python3"
  },
  "language_info": {
   "codemirror_mode": {
    "name": "ipython",
    "version": 3
   },
   "file_extension": ".py",
   "mimetype": "text/x-python",
   "name": "python",
   "nbconvert_exporter": "python",
   "pygments_lexer": "ipython3",
   "version": "3.11.11"
  }
 },
 "nbformat": 4,
 "nbformat_minor": 5
}
